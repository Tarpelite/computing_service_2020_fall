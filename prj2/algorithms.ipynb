{
 "cells": [
  {
   "cell_type": "code",
   "execution_count": 1,
   "metadata": {},
   "outputs": [],
   "source": [
    "import os\n",
    "from tqdm.notebook import tqdm\n",
    "from sklearn.model_selection import train_test_split"
   ]
  },
  {
   "cell_type": "code",
   "execution_count": 8,
   "metadata": {
    "scrolled": true
   },
   "outputs": [
    {
     "data": {
      "application/vnd.jupyter.widget-view+json": {
       "model_id": "d1eb7a546ca84afd8f9d218f6ce20e95",
       "version_major": 2,
       "version_minor": 0
      },
      "text/plain": [
       "HBox(children=(HTML(value=''), FloatProgress(value=0.0, max=30287611.0), HTML(value='')))"
      ]
     },
     "metadata": {},
     "output_type": "display_data"
    },
    {
     "name": "stdout",
     "output_type": "stream",
     "text": [
      "\n"
     ]
    },
    {
     "data": {
      "text/plain": [
       "[0.0, 0.0, 0.0, 4.18]"
      ]
     },
     "execution_count": 8,
     "metadata": {},
     "output_type": "execute_result"
    }
   ],
   "source": [
    "data_path=\"dataset2/rtdata.txt\"\n",
    "all_data = []\n",
    "with open(data_path, \"r\", encoding=\"utf-8\") as f:\n",
    "    for line in tqdm(f.readlines()):\n",
    "        line = [float(x) for x in line.strip().split()]\n",
    "        all_data.append(line)\n",
    "all_data[0]"
   ]
  },
  {
   "cell_type": "code",
   "execution_count": 9,
   "metadata": {},
   "outputs": [
    {
     "name": "stderr",
     "output_type": "stream",
     "text": [
      "/home/LAB/chenty/anaconda3/lib/python3.7/site-packages/sklearn/model_selection/_split.py:2026: FutureWarning: From version 0.21, test_size will always complement train_size unless both are specified.\n",
      "  FutureWarning)\n"
     ]
    }
   ],
   "source": [
    "# make dataset\n",
    "train_data, dev_data = train_test_split(all_data, test_size=10000)\n",
    "train_data_5, res_data = train_test_split(train_data, train_size=0.05)\n",
    "# train_data_10, res_data = train_test_split(train_data, train_size=0.1)\n",
    "# train_data_15, res_data = train_test_split(train_data, train_size=0.15)\n",
    "# train_data_20, res_data = train_test_split(train_data, train_size=0.20)\n",
    "# train_data_25, res_data = train_test_split(train_data, train_size=0.25)"
   ]
  },
  {
   "cell_type": "code",
   "execution_count": 10,
   "metadata": {},
   "outputs": [],
   "source": [
    "# Evaluation Method\n",
    "import math\n",
    "def MAE(y_true, y_pred):\n",
    "    res = y_true - y_pred\n",
    "    if res < 0:\n",
    "        res = - res\n",
    "    if res > 0 and y_pred > 0:\n",
    "        res = res*1.00000 / y_pred\n",
    "        \n",
    "    return res\n",
    "\n",
    "\n",
    "def RMSE(y_true, y_pred):\n",
    "    res = (y_true - y_pred)**2\n",
    "    if y_pred > 0:\n",
    "        res = res*1.00000 /y_pred\n",
    "    else:\n",
    "        res = res\n",
    "    return res\n",
    "\n",
    "def MSE(y_true, y_pred):\n",
    "    res = (y_true - y_pred)**2\n",
    "    return res"
   ]
  },
  {
   "cell_type": "code",
   "execution_count": 11,
   "metadata": {},
   "outputs": [
    {
     "data": {
      "application/vnd.jupyter.widget-view+json": {
       "model_id": "5dcc699eb6684d1ba1b7810ebd93c474",
       "version_major": 2,
       "version_minor": 0
      },
      "text/plain": [
       "HBox(children=(HTML(value=''), FloatProgress(value=0.0, max=1513880.0), HTML(value='')))"
      ]
     },
     "metadata": {},
     "output_type": "display_data"
    },
    {
     "name": "stdout",
     "output_type": "stream",
     "text": [
      "\n"
     ]
    },
    {
     "data": {
      "application/vnd.jupyter.widget-view+json": {
       "model_id": "b76c59d1f1314a13aa682f89375c0691",
       "version_major": 2,
       "version_minor": 0
      },
      "text/plain": [
       "HBox(children=(HTML(value=''), FloatProgress(value=0.0, max=10000.0), HTML(value='')))"
      ]
     },
     "metadata": {},
     "output_type": "display_data"
    },
    {
     "name": "stdout",
     "output_type": "stream",
     "text": [
      "\n"
     ]
    },
    {
     "data": {
      "text/plain": [
       "1.3192837409691838"
      ]
     },
     "execution_count": 11,
     "metadata": {},
     "output_type": "execute_result"
    }
   ],
   "source": [
    "# UMean\n",
    "Users = {}\n",
    "all_scores = []\n",
    "for line in tqdm(train_data_5):\n",
    "    user_id = line[0]\n",
    "    rt  = line[-1]\n",
    "    if user_id in Users:\n",
    "        Users[user_id].append(rt)\n",
    "    else:\n",
    "        Users[user_id] = [rt]\n",
    "    all_scores.append(rt)\n",
    "\n",
    "search_table = {}\n",
    "for k in Users.keys():\n",
    "    search_table[k] = sum(Users[k])*1.000 / len(Users[k])\n",
    "\n",
    "avg_score = sum(all_scores)*1.000 / len(all_scores)\n",
    "\n",
    "## Evaluate\n",
    "avg_mse = 0\n",
    "\n",
    "for line in tqdm(dev_data):\n",
    "    user_id = line[0]\n",
    "    y_true = line[-1]\n",
    "    if user_id in search_table:\n",
    "        y_pred = search_table[user_id]\n",
    "    else:\n",
    "        y_pred = avg_score\n",
    "    mse_score = MAE(y_true, y_pred)\n",
    "    avg_mse += mse_score\n",
    "\n",
    "avg_mse = avg_mse / len(dev_data)\n",
    "avg_mse"
   ]
  },
  {
   "cell_type": "code",
   "execution_count": 12,
   "metadata": {},
   "outputs": [
    {
     "data": {
      "application/vnd.jupyter.widget-view+json": {
       "model_id": "7f373d2a0cd34d508d2c05157d71b05b",
       "version_major": 2,
       "version_minor": 0
      },
      "text/plain": [
       "HBox(children=(HTML(value=''), FloatProgress(value=0.0, max=1513880.0), HTML(value='')))"
      ]
     },
     "metadata": {},
     "output_type": "display_data"
    },
    {
     "name": "stdout",
     "output_type": "stream",
     "text": [
      "\n"
     ]
    },
    {
     "data": {
      "application/vnd.jupyter.widget-view+json": {
       "model_id": "b0e7fd94143c4a269c6b3a59425e17a2",
       "version_major": 2,
       "version_minor": 0
      },
      "text/plain": [
       "HBox(children=(HTML(value=''), FloatProgress(value=0.0, max=10000.0), HTML(value='')))"
      ]
     },
     "metadata": {},
     "output_type": "display_data"
    },
    {
     "name": "stdout",
     "output_type": "stream",
     "text": [
      "\n"
     ]
    },
    {
     "data": {
      "text/plain": [
       "1.041187998949346"
      ]
     },
     "execution_count": 12,
     "metadata": {},
     "output_type": "execute_result"
    }
   ],
   "source": [
    "# IMean\n",
    "Items = {}\n",
    "all_scores = []\n",
    "for line in tqdm(train_data_5):\n",
    "    item_id = line[1]\n",
    "    rt = line[-1]\n",
    "    if item_id in Items:\n",
    "        Items[item_id].append(rt)\n",
    "    else:\n",
    "        Items[item_id] = [rt]\n",
    "    all_scores.append(rt)\n",
    "\n",
    "search_table = {}\n",
    "\n",
    "for k in Items.keys():\n",
    "    search_table[k] = sum(Items[k])*1.000 / len(Items[k])\n",
    "avg_score = sum(all_scores)*1.000 / len(all_scores)\n",
    "\n",
    "## Evaluate\n",
    "avg_mse = 0\n",
    "for line in tqdm(dev_data):\n",
    "    item_id = line[1]\n",
    "    y_true = line[-1]\n",
    "    if item_id in search_table:\n",
    "        y_pred = search_table[item_id]\n",
    "    else:\n",
    "        y_pred = avg_score\n",
    "    mse_score = MAE(y_true, y_pred)\n",
    "    avg_mse += mse_score\n",
    "\n",
    "avg_mse = avg_mse / len(dev_data)\n",
    "avg_mse"
   ]
  },
  {
   "cell_type": "code",
   "execution_count": 13,
   "metadata": {},
   "outputs": [
    {
     "data": {
      "application/vnd.jupyter.widget-view+json": {
       "model_id": "b1ca593cd8f1410c8c272869e805a978",
       "version_major": 2,
       "version_minor": 0
      },
      "text/plain": [
       "HBox(children=(HTML(value=''), FloatProgress(value=0.0, max=1513880.0), HTML(value='')))"
      ]
     },
     "metadata": {},
     "output_type": "display_data"
    },
    {
     "name": "stdout",
     "output_type": "stream",
     "text": [
      "\n"
     ]
    },
    {
     "data": {
      "application/vnd.jupyter.widget-view+json": {
       "model_id": "034f7b9877c44af0af0735967f3afbcb",
       "version_major": 2,
       "version_minor": 0
      },
      "text/plain": [
       "HBox(children=(HTML(value=''), FloatProgress(value=0.0, max=10000.0), HTML(value='')))"
      ]
     },
     "metadata": {},
     "output_type": "display_data"
    },
    {
     "name": "stdout",
     "output_type": "stream",
     "text": [
      "\n"
     ]
    },
    {
     "data": {
      "text/plain": [
       "0.32926829268296887"
      ]
     },
     "execution_count": 13,
     "metadata": {},
     "output_type": "execute_result"
    }
   ],
   "source": [
    "# User based FC\n",
    "\n",
    "import numpy as np\n",
    "from scipy.spatial import distance\n",
    "\n",
    "top_k = 5\n",
    "Users = np.zeros((142, 4500))\n",
    "for line in tqdm(train_data_5):\n",
    "    user_id = int(line[0])\n",
    "    item_id = int(line[1])\n",
    "    val = line[-1]\n",
    "    Users[user_id][item_id] = val\n",
    "\n",
    "# Evaluating\n",
    "avg_mse = 0.0\n",
    "all_true = []\n",
    "all_pred = []\n",
    "for line in tqdm(dev_data):\n",
    "    user_id = int(line[0])\n",
    "    item_id = int(line[1])\n",
    "    y_true = line[-1]\n",
    "    user_vec =Users[user_id]\n",
    "    all_dis = [distance.cosine(user_vec, x) for x in Users]\n",
    "    top_k_vec = np.argsort(np.array(all_dis))[1:6]\n",
    "    all_true.append(y_true)\n",
    "    ref_item = [Users[x][item_id] for x in top_k_vec]\n",
    "    y_pred = sum(ref_item) /  len(ref_item)\n",
    "    all_pred.append(y_pred)\n",
    "\n",
    "for t, p in zip(all_true, all_pred):\n",
    "    avg_mse += MAE(y_true, y_pred)\n",
    "\n",
    "avg_mse = avg_mse /len(all_true)\n",
    "avg_mse\n"
   ]
  },
  {
   "cell_type": "code",
   "execution_count": null,
   "metadata": {},
   "outputs": [
    {
     "data": {
      "application/vnd.jupyter.widget-view+json": {
       "model_id": "173457c9d48640a7be290e0098dbb4e9",
       "version_major": 2,
       "version_minor": 0
      },
      "text/plain": [
       "HBox(children=(HTML(value=''), FloatProgress(value=0.0, max=1513880.0), HTML(value='')))"
      ]
     },
     "metadata": {},
     "output_type": "display_data"
    },
    {
     "name": "stdout",
     "output_type": "stream",
     "text": [
      "\n"
     ]
    },
    {
     "data": {
      "application/vnd.jupyter.widget-view+json": {
       "model_id": "19e96d10bd544c549a96b2662f9de2d9",
       "version_major": 2,
       "version_minor": 0
      },
      "text/plain": [
       "HBox(children=(HTML(value=''), FloatProgress(value=0.0, max=10000.0), HTML(value='')))"
      ]
     },
     "metadata": {},
     "output_type": "display_data"
    }
   ],
   "source": [
    "# Item based FC\n",
    "\n",
    "import numpy as np\n",
    "from scipy.spatial import distance\n",
    "from multiprocessing import Pool\n",
    "\n",
    "top_k = 5\n",
    "Items = np.zeros((4500, 142))\n",
    "for line in tqdm(train_data_5):\n",
    "    user_id = int(line[0])\n",
    "    item_id = int(line[1])\n",
    "    val = line[-1]\n",
    "    Items[item_id][user_id] = val\n",
    "\n",
    "# Evaluating\n",
    "avg_mse = 0.0\n",
    "all_true = []\n",
    "all_pred = []\n",
    "for line in tqdm(dev_data):\n",
    "    user_id = int(line[0])\n",
    "    item_id = int(line[1])\n",
    "    y_true = line[-1]\n",
    "    item_vec = Items[item_id]\n",
    "#     def f(y):\n",
    "#         return distance.cosine(item_vec, y)\n",
    "#     with Pool(64) as p:\n",
    "#         all_dis = p.map(f, Items)\n",
    "    all_dis = [distance.cosine(item_vec, x) for x in Items] \n",
    "    top_k_vec = np.argsort(np.array(all_dis))[1:6]\n",
    "    all_true.append(y_true)\n",
    "    ref_User = [Items[x][user_id] for x in top_k_vec]\n",
    "    y_pred = sum(ref_item) /  len(ref_item)\n",
    "    all_pred.append(y_pred)\n",
    "\n",
    "for t, p in zip(all_true, all_pred):\n",
    "    avg_mse += MAE(y_true, y_pred)\n",
    "\n",
    "avg_mse = avg_mse /len(all_true)\n",
    "avg_mse"
   ]
  },
  {
   "cell_type": "code",
   "execution_count": 6,
   "metadata": {},
   "outputs": [],
   "source": [
    "# Hybrid CF\n",
    "\n",
    "import numpy as np\n",
    "from scipy.spatial import distance\n",
    "from multiprocessing import Pool\n",
    "\n",
    "top_k = 5\n",
    "Items = np.zeros((4500, 142))\n",
    "Users = np.zeros((142, 4500))\n",
    "for line in tqdm(train_data_5):\n",
    "    user_id = int(line[0])\n",
    "    item_id = int(line[1])\n",
    "    val = line[-1]\n",
    "    Items[item_id][user_id] = val\n",
    "    Users[user_id][item_id] = val\n",
    "\n",
    "# Evaluating\n",
    "avg_mse = 0.0\n",
    "all_true = []\n",
    "all_pred = []\n",
    "for line in tqdm(dev_data):\n",
    "    user_id = int(line[0])\n",
    "    item_id = int(line[1])\n",
    "    y_true = line[-1]\n",
    "    item_vec = Items[item_id]\n",
    "    user_vec = Users[user_id]\n",
    "    # get similarity from Items\n",
    "    all_dis = [distance.cosine(item_vec, x) for x in Items] \n",
    "    top_k_vec = np.argsort(np.array(all_dis))[1:6]\n",
    "    all_true.append(y_true)\n",
    "    ref_User = [Items[x][user_id] for x in top_k_vec]\n",
    "    # get similarity from Users\n",
    "    user_vec =Users[user_id]\n",
    "    all_dis = [distance.cosine(user_vec, x) for x in Users]\n",
    "    top_k_vec = np.argsort(np.array(all_dis))[1:6]\n",
    "    ref_item = [Users[x][item_id] for x in top_k_vec]\n",
    "    \n",
    "    ref_vals = ref_User + ref_item\n",
    "    y_pred = sum(ref_vals) / len(ref_vals)\n",
    "    all_pred.append(y_pred)\n",
    "\n",
    "for t, p in zip(all_true, all_pred):\n",
    "    avg_mse += MAE(y_true, y_pred)\n",
    "\n",
    "avg_mse = avg_mse /len(all_true)\n",
    "avg_mse"
   ]
  }
 ],
 "metadata": {
  "kernelspec": {
   "display_name": "Python 3",
   "language": "python",
   "name": "python3"
  },
  "language_info": {
   "codemirror_mode": {
    "name": "ipython",
    "version": 3
   },
   "file_extension": ".py",
   "mimetype": "text/x-python",
   "name": "python",
   "nbconvert_exporter": "python",
   "pygments_lexer": "ipython3",
   "version": "3.7.0"
  }
 },
 "nbformat": 4,
 "nbformat_minor": 2
}
